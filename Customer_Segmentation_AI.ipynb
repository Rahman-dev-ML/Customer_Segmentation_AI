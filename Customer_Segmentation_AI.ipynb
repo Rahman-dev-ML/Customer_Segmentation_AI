{
  "nbformat": 4,
  "nbformat_minor": 0,
  "metadata": {
    "colab": {
      "provenance": []
    },
    "kernelspec": {
      "name": "python3",
      "display_name": "Python 3"
    },
    "language_info": {
      "name": "python"
    }
  },
  "cells": [
    {
      "cell_type": "code",
      "execution_count": null,
      "metadata": {
        "id": "hw7h2fnMEOdo"
      },
      "outputs": [],
      "source": [
        "import pandas as pd\n",
        "import numpy as np\n",
        "import seaborn as sns\n",
        "import matplotlib.pyplot as plt\n",
        "import zipfile\n",
        "import cv2\n",
        "import plotly.express as px\n",
        "import tensorflow as tf\n",
        "from tensorflow.python.keras import Sequential\n",
        "from tensorflow.keras import layers, optimizers\n",
        "from tensorflow.keras.applications.resnet50 import ResNet50\n",
        "from tensorflow.keras.layers import Input, Add, Dense, Activation, ZeroPadding2D, BatchNormalization, Flatten, Conv2D, AveragePooling2D, MaxPooling2D, Dropout\n",
        "from tensorflow.keras.models import Model, load_model\n",
        "from tensorflow.keras.initializers import glorot_uniform\n",
        "from tensorflow.keras.utils import plot_model\n",
        "from tensorflow.keras.callbacks import ReduceLROnPlateau, EarlyStopping, ModelCheckpoint, LearningRateScheduler\n",
        "from IPython.display import display\n",
        "from tensorflow.keras import backend as K\n",
        "from sklearn.preprocessing import StandardScaler, normalize\n",
        "from sklearn.cluster import KMeans\n",
        "from sklearn.decomposition import PCA\n",
        "from sklearn.metrics import silhouette_score\n",
        "from sklearn.manifold import TSNE\n",
        "from sklearn.metrics.pairwise import cosine_similarity\n",
        "import plotly.express as px\n",
        "import plotly.graph_objects as go\n",
        "\n",
        "from google.colab import files #library to upload files to colab notebook\n",
        "%matplotlib inline"
      ]
    },
    {
      "cell_type": "code",
      "source": [
        "sales_df = pd.read_csv('sales_data_sample.csv', encoding = 'unicode_escape')\n"
      ],
      "metadata": {
        "id": "FbnRCYMBEPoM"
      },
      "execution_count": null,
      "outputs": []
    },
    {
      "cell_type": "code",
      "source": [
        "# Let's view the types of data\n",
        "sales_df.dtypes"
      ],
      "metadata": {
        "id": "IVhfel-8EW3l"
      },
      "execution_count": null,
      "outputs": []
    },
    {
      "cell_type": "code",
      "source": [
        "# Convert order date to datetime format\n",
        "sales_df['ORDERDATE'] = pd.to_datetime(sales_df['ORDERDATE'])\n",
        "# Check the type of data\n",
        "sales_df.dtypes"
      ],
      "metadata": {
        "id": "_R7gqNh8EYnQ"
      },
      "execution_count": null,
      "outputs": []
    },
    {
      "cell_type": "code",
      "source": [
        "# Check the number of non-null values in the dataframe\n",
        "sales_df.info()\n",
        "\n",
        "# Check the number of Null values in the data\n",
        "sales_df.isnull().sum()"
      ],
      "metadata": {
        "id": "NY3JRALBEaHR"
      },
      "execution_count": null,
      "outputs": []
    },
    {
      "cell_type": "code",
      "source": [
        "# since there are lot of Null values in 'addressline2', 'state', 'postal code' and 'territory' we can drop them.\n",
        "# Country would represent the order grographical information.\n",
        "# Also we can drop city, address1, phone number, contact_name, contact last_name and contact first_name since they are not required for the analysis\n",
        "\n",
        "df_drop  = ['ADDRESSLINE1', 'ADDRESSLINE2', 'POSTALCODE', 'CITY', 'TERRITORY', 'PHONE', 'STATE', 'CONTACTFIRSTNAME', 'CONTACTLASTNAME', 'CUSTOMERNAME', 'ORDERNUMBER']\n",
        "sales_df = sales_df.drop(df_drop, axis = 1)\n",
        "sales_df.head()"
      ],
      "metadata": {
        "id": "7S4YSzKWEb0s"
      },
      "execution_count": null,
      "outputs": []
    },
    {
      "cell_type": "code",
      "source": [
        "sales_df['COUNTRY'].value_counts()"
      ],
      "metadata": {
        "id": "8x9wF_erEdyN"
      },
      "execution_count": null,
      "outputs": []
    },
    {
      "cell_type": "code",
      "source": [
        "# Function to visulize the count of items in a given column\n",
        "\n",
        "def barplot_visualization(x):\n",
        "  fig = plt.Figure(figsize = (12, 6))\n",
        "  fig = px.bar(x = sales_df[x].value_counts().index, y = sales_df[x].value_counts(), color = sales_df[x].value_counts().index, height = 600)\n",
        "  fig.show()"
      ],
      "metadata": {
        "id": "gO-6pIlbEg_m"
      },
      "execution_count": 1,
      "outputs": []
    },
    {
      "cell_type": "code",
      "source": [
        "# Let's call this function for any given column such as 'COUNTRY'\n",
        "barplot_visualization('COUNTRY')"
      ],
      "metadata": {
        "id": "e5Ee7Nv2Eleg"
      },
      "execution_count": null,
      "outputs": []
    },
    {
      "cell_type": "code",
      "source": [
        "barplot_visualization('PRODUCTLINE')"
      ],
      "metadata": {
        "id": "lgA9C0uXEqFa"
      },
      "execution_count": null,
      "outputs": []
    },
    {
      "cell_type": "code",
      "source": [
        "barplot_visualization('DEALSIZE')"
      ],
      "metadata": {
        "id": "xir-D7nJEtKo"
      },
      "execution_count": null,
      "outputs": []
    },
    {
      "cell_type": "code",
      "source": [
        "# Function to add dummy variables to replace categorical variables\n",
        "\n",
        "def dummies(x):\n",
        "  dummy = pd.get_dummies(sales_df[x])\n",
        "  sales_df.drop(columns = x , inplace = True)\n",
        "  return pd.concat([sales_df, dummy], axis = 1)"
      ],
      "metadata": {
        "id": "SgXYWAa3Eu9m"
      },
      "execution_count": null,
      "outputs": []
    },
    {
      "cell_type": "code",
      "source": [
        "# Let's obtain dummy variables for the column 'COUNTRY'\n",
        "sales_df = dummies('COUNTRY')\n",
        "sales_df"
      ],
      "metadata": {
        "id": "exkPNUp3EwtZ"
      },
      "execution_count": null,
      "outputs": []
    },
    {
      "cell_type": "code",
      "source": [
        "sales_df = dummies('PRODUCTLINE')"
      ],
      "metadata": {
        "id": "wGSg1qqSEy4C"
      },
      "execution_count": null,
      "outputs": []
    },
    {
      "cell_type": "code",
      "source": [
        "sales_df"
      ],
      "metadata": {
        "id": "eOOM3b7ZE05X"
      },
      "execution_count": null,
      "outputs": []
    },
    {
      "cell_type": "code",
      "source": [
        "sales_df.drop(columns= ['STATUS'], inplace = True)\n",
        "sales_df"
      ],
      "metadata": {
        "id": "XYZt8q65EpwW"
      },
      "execution_count": null,
      "outputs": []
    },
    {
      "cell_type": "code",
      "source": [
        "sales_df = dummies('DEALSIZE')\n",
        "sales_df"
      ],
      "metadata": {
        "id": "jfRs1a4GE34E"
      },
      "execution_count": null,
      "outputs": []
    },
    {
      "cell_type": "code",
      "source": [
        "y = pd.Categorical(sales_df['PRODUCTCODE']).codes\n",
        "y"
      ],
      "metadata": {
        "id": "QJpjZ6WtE6gq"
      },
      "execution_count": null,
      "outputs": []
    },
    {
      "cell_type": "code",
      "source": [
        "# Since the number unique product code is 109, if we add one-hot variables, there\n",
        "# would be additional 109 columns, we can avoid that by using categorical encoding\n",
        "# This is not the optimal way of dealing with it but it's important to avoid curse of dimensionality\n",
        "sales_df['PRODUCTCODE'] = pd.Categorical(sales_df['PRODUCTCODE']).codes"
      ],
      "metadata": {
        "id": "SuJSoEf9FAM2"
      },
      "execution_count": null,
      "outputs": []
    },
    {
      "cell_type": "code",
      "source": [
        "sales_df"
      ],
      "metadata": {
        "id": "X8_6pIMUFAm-"
      },
      "execution_count": null,
      "outputs": []
    },
    {
      "cell_type": "code",
      "source": [
        "# Group data by order date\n",
        "sales_df_group = sales_df.groupby(by = \"ORDERDATE\").sum()\n",
        "sales_df_group"
      ],
      "metadata": {
        "id": "HflkXgt0FCa1"
      },
      "execution_count": null,
      "outputs": []
    },
    {
      "cell_type": "code",
      "source": [
        "plt.figure(figsize = (20, 20))\n",
        "corr_matrix = sales_df.iloc[:, :10].corr()\n",
        "sns.heatmap(corr_matrix, annot = True, cbar = False)"
      ],
      "metadata": {
        "id": "vi_ifijAFIr_"
      },
      "execution_count": null,
      "outputs": []
    },
    {
      "cell_type": "code",
      "source": [
        "\n",
        "# Distplot shows the (1) histogram, (2) kde plot and (3) rug plot.\n",
        "import plotly.figure_factory as ff\n",
        "\n",
        "plt.figure(figsize = (10, 10))\n",
        "\n",
        "for i in range(8):\n",
        "  if sales_df.columns[i] != 'ORDERLINENUMBER':\n",
        "    fig = ff.create_distplot([sales_df[sales_df.columns[i]].apply(lambda x: float(x))], ['distplot'])\n",
        "    fig.update_layout(title_text = sales_df.columns[i])\n",
        "    fig.show()\n"
      ],
      "metadata": {
        "id": "vDMF7tPLFJHm"
      },
      "execution_count": null,
      "outputs": []
    },
    {
      "cell_type": "code",
      "source": [
        "# Visualize the relationship between variables using pairplots\n",
        "plt.figure(figsize = (15, 15))\n",
        "\n",
        "fig = px.scatter_matrix(sales_df,\n",
        "    dimensions = sales_df.columns[:8], color = 'MONTH_ID')\n",
        "\n",
        "fig.update_layout(\n",
        "    title = 'Sales Data',\n",
        "    width = 1100,\n",
        "    height = 1100,\n",
        ")\n",
        "fig.show()\n",
        "\n",
        "# A trend exists between 'SALES' and 'QUANTITYORDERED'\n",
        "# A trend exists between 'MSRP' and 'PRICEEACH'\n",
        "# A trend exists between 'PRICEEACH' and 'SALES'\n",
        "# It seems that sales growth exists as we move from 2013 to 2014 to 2015 ('SALES' vs. 'YEAR_ID')\n",
        "# zoom in into 'SALES' and 'QUANTITYORDERED', to see the monthly information color coded on the graph\n"
      ],
      "metadata": {
        "id": "Ffa5pXZIFQ0R"
      },
      "execution_count": null,
      "outputs": []
    },
    {
      "cell_type": "code",
      "source": [
        "# Scale the data\n",
        "scaler = StandardScaler()\n",
        "sales_df_scaled = scaler.fit_transform(sales_df)"
      ],
      "metadata": {
        "id": "Gepvu739FlXx"
      },
      "execution_count": null,
      "outputs": []
    },
    {
      "cell_type": "code",
      "source": [
        "sales_df_scaled.shape"
      ],
      "metadata": {
        "id": "TdHcWSIcFo-q"
      },
      "execution_count": null,
      "outputs": []
    },
    {
      "cell_type": "code",
      "source": [
        "scores = []\n",
        "\n",
        "range_values = range(1, 15)\n",
        "\n",
        "for i in range_values:\n",
        "  kmeans = KMeans(n_clusters = i)\n",
        "  kmeans.fit(sales_df_scaled)\n",
        "  scores.append(kmeans.inertia_) # intertia is the Sum of squared distances of samples to their closest cluster center\n",
        "\n",
        "plt.plot(scores, 'bx-')\n",
        "plt.title('Finding right number of clusters')\n",
        "plt.xlabel('Clusters')\n",
        "plt.ylabel('scores')\n",
        "plt.show()\n"
      ],
      "metadata": {
        "id": "3SSrtOwYFrFz"
      },
      "execution_count": null,
      "outputs": []
    },
    {
      "cell_type": "code",
      "source": [
        "# Cluster the data using k-means\n",
        "kmeans = KMeans(5)\n",
        "kmeans.fit(sales_df_scaled)\n",
        "labels = kmeans.labels_\n"
      ],
      "metadata": {
        "id": "MpfoRc5BFuER"
      },
      "execution_count": null,
      "outputs": []
    },
    {
      "cell_type": "code",
      "source": [
        "labels"
      ],
      "metadata": {
        "id": "sU-QfJK_FwGx"
      },
      "execution_count": null,
      "outputs": []
    },
    {
      "cell_type": "code",
      "source": [
        "kmeans.cluster_centers_.shape"
      ],
      "metadata": {
        "id": "eso7dBN5FzC8"
      },
      "execution_count": null,
      "outputs": []
    },
    {
      "cell_type": "code",
      "source": [
        "# Let's take a look at the cluster centers\n",
        "cluster_centers = pd.DataFrame(data = kmeans.cluster_centers_, columns = [sales_df.columns])\n",
        "cluster_centers"
      ],
      "metadata": {
        "id": "tjwrKURjF0qY"
      },
      "execution_count": null,
      "outputs": []
    },
    {
      "cell_type": "code",
      "source": [
        "# to understand perform inverse transformation\n",
        "cluster_centers = scaler.inverse_transform(cluster_centers)\n",
        "cluster_centers = pd.DataFrame(data = cluster_centers, columns = [sales_df.columns])\n",
        "cluster_centers\n",
        "\n",
        "# Cluster 0 (Highest) - This group represents customers who buy items in high quantity centered around ~47, they buy items in all price range leaning towards high price items of ~99. They also correspond to the highest total sales around ~8296 and they are active throughout the year. They are the highest buyers of products with high MSRP ~158.\n",
        "# Cluster 1 - This group represents customers who buy items in varying quantity ~35, they tend to buy high price items ~96. Their sales is bit better average ~4435, they buy products with second highest MSRP of ~133.\n",
        "# Cluster 2 (lowest) - This group represents customers who buy items in low quantity ~30. They tend to buy low price items ~68. Their sales ~2044 is lower than other clusters and they are extremely active around holiday season. They buy products with low MSRP ~75.\n",
        "# Cluster 3 - This group represents customers who are only active during the holidays. they buy in lower quantity ~35, but they tend to buy average price items around ~86. They also correspond to lower total sales around ~3673, they tend to buy items with MSRP around 102.\n",
        "# Cluster 4 - This group represents customers who buy items in varying quantity ~39, they tend to buy average price items ~94. Their sales ~4280."
      ],
      "metadata": {
        "id": "nodhT7xXF23t"
      },
      "execution_count": null,
      "outputs": []
    },
    {
      "cell_type": "code",
      "source": [
        "y_kmeans = kmeans.fit_predict(sales_df_scaled)\n",
        "y_kmeans\n"
      ],
      "metadata": {
        "id": "ScTBn5QmF7C9"
      },
      "execution_count": null,
      "outputs": []
    },
    {
      "cell_type": "code",
      "source": [
        "# Add a label (which cluster) corresponding to each data point\n",
        "sale_df_cluster = pd.concat([sales_df, pd.DataFrame({'cluster':labels})], axis = 1)\n",
        "sale_df_cluster"
      ],
      "metadata": {
        "id": "kMXsNOB7F9ap"
      },
      "execution_count": null,
      "outputs": []
    },
    {
      "cell_type": "code",
      "source": [
        "sales_df['ORDERLINENUMBER'] = sales_df['ORDERLINENUMBER'].apply(lambda x: float(x))"
      ],
      "metadata": {
        "id": "TyVEP9bCF_Nd"
      },
      "execution_count": null,
      "outputs": []
    },
    {
      "cell_type": "code",
      "source": [
        "# plot histogram for each feature based on cluster\n",
        "for i in sales_df.columns[:8]:\n",
        "  plt.figure(figsize = (30, 6))\n",
        "  for j in range(5):\n",
        "    plt.subplot(1, 5, j+1)\n",
        "    cluster = sale_df_cluster[sale_df_cluster['cluster'] == j]\n",
        "    cluster[i].hist()\n",
        "    plt.title('{}    \\nCluster - {} '.format(i,j))\n",
        "\n",
        "  plt.show()\n"
      ],
      "metadata": {
        "id": "Yc0_5z9iGBZN"
      },
      "execution_count": null,
      "outputs": []
    },
    {
      "cell_type": "code",
      "source": [
        "# Reduce the original data to 3 dimensions using PCA for visualizig the clusters\n",
        "pca = PCA(n_components = 3)\n",
        "principal_comp = pca.fit_transform(sales_df_scaled)\n",
        "principal_comp\n",
        "pca_df = pd.DataFrame(data = principal_comp, columns = ['pca1', 'pca2', 'pca2'])\n",
        "pca_df.head()"
      ],
      "metadata": {
        "id": "Guv-_v8pGC8j"
      },
      "execution_count": null,
      "outputs": []
    },
    {
      "cell_type": "code",
      "source": [
        "# Concatenate the clusters labels to the dataframe\n",
        "pca_df = pd.concat([pca_df, pd.DataFrame({'cluster':labels})], axis = 1)\n",
        "pca_df\n",
        "# Visualize clusters using 3D-Scatterplot\n",
        "fig = px.scatter_3d(pca_df, x = 'pca1', y = 'pca2', z = 'pca3',\n",
        "              color = 'cluster', symbol = 'cluster', size_max = 18, opacity = 0.7)\n",
        "fig.update_layout(margin = dict(l = 0, r = 0, b = 0, t = 0))"
      ],
      "metadata": {
        "id": "WhdTzJnSGHKS"
      },
      "execution_count": null,
      "outputs": []
    },
    {
      "cell_type": "code",
      "source": [
        "#AUTOENCODER TO PERFORM DIMENSOLITY REDUCTION"
      ],
      "metadata": {
        "id": "IBqLLJzMGarm"
      },
      "execution_count": null,
      "outputs": []
    },
    {
      "cell_type": "code",
      "source": [
        "from keras.optimizers import SGD\n",
        "\n",
        "\n",
        "\n",
        "input_df = Input(shape = (37,))\n",
        "x = Dense(50, activation = 'relu')(input_df)\n",
        "x = Dense(500, activation = 'relu', kernel_initializer = 'glorot_uniform')(x)\n",
        "x = Dense(500, activation = 'relu', kernel_initializer = 'glorot_uniform')(x)\n",
        "x = Dense(2000, activation = 'relu', kernel_initializer = 'glorot_uniform')(x)\n",
        "encoded = Dense(8, activation = 'relu', kernel_initializer = 'glorot_uniform')(x)\n",
        "x = Dense(2000, activation = 'relu', kernel_initializer = 'glorot_uniform')(encoded)\n",
        "x = Dense(500, activation = 'relu', kernel_initializer = 'glorot_uniform')(x)\n",
        "decoded = Dense(37, kernel_initializer = 'glorot_uniform')(x)\n",
        "\n",
        "# autoencoder\n",
        "autoencoder = Model(input_df, decoded)\n",
        "\n",
        "# encoder - used for dimensionality reduction\n",
        "encoder = Model(input_df, encoded)\n",
        "\n",
        "autoencoder.compile(optimizer = 'adam', loss='mean_squared_error')"
      ],
      "metadata": {
        "id": "n12YDq_kGes-"
      },
      "execution_count": null,
      "outputs": []
    },
    {
      "cell_type": "code",
      "source": [
        "autoencoder.fit(sales_df, sales_df, batch_size = 128, epochs = 500, verbose = 3)"
      ],
      "metadata": {
        "id": "_qfHYNqfGkAv"
      },
      "execution_count": null,
      "outputs": []
    },
    {
      "cell_type": "code",
      "source": [
        "autoencoder.save_weights('autoencoder_1.h5')"
      ],
      "metadata": {
        "id": "7LsB7M4YGlpd"
      },
      "execution_count": null,
      "outputs": []
    },
    {
      "cell_type": "code",
      "source": [
        "pred = encoder.predict(sales_df_scaled)"
      ],
      "metadata": {
        "id": "dNa9XpyEGnSE"
      },
      "execution_count": null,
      "outputs": []
    },
    {
      "cell_type": "code",
      "source": [
        "scores = []\n",
        "\n",
        "range_values = range(1, 15)\n",
        "\n",
        "for i in range_values:\n",
        "  kmeans = KMeans(n_clusters = i)\n",
        "  kmeans.fit(pred)\n",
        "  scores.append(kmeans.inertia_)\n",
        "\n",
        "plt.plot(scores, 'bx-')\n",
        "plt.title('Finding right number of clusters')\n",
        "plt.xlabel('Clusters')\n",
        "plt.ylabel('scores')\n",
        "plt.show()"
      ],
      "metadata": {
        "id": "yf69Lg33Gp3I"
      },
      "execution_count": null,
      "outputs": []
    },
    {
      "cell_type": "code",
      "source": [
        "kmeans = KMeans(3)\n",
        "kmeans.fit(pred)\n",
        "labels = kmeans.labels_\n",
        "y_kmeans = kmeans.fit_predict(sales_df_scaled)"
      ],
      "metadata": {
        "id": "HJgSAE8oGrge"
      },
      "execution_count": null,
      "outputs": []
    },
    {
      "cell_type": "code",
      "source": [
        "df_cluster_dr = pd.concat([sales_df, pd.DataFrame({'cluster':labels})], axis = 1)\n",
        "df_cluster_dr.head()"
      ],
      "metadata": {
        "id": "basK2SJtGtOr"
      },
      "execution_count": null,
      "outputs": []
    },
    {
      "cell_type": "code",
      "source": [
        "cluster_centers = pd.DataFrame(data = kmeans.cluster_centers_, columns = [sales_df.columns])\n",
        "cluster_centers\n"
      ],
      "metadata": {
        "id": "5EqxUkxwGwNa"
      },
      "execution_count": null,
      "outputs": []
    },
    {
      "cell_type": "code",
      "source": [
        "cluster_centers = scaler.inverse_transform(cluster_centers)\n",
        "cluster_centers = pd.DataFrame(data = cluster_centers, columns = [sales_df.columns])\n",
        "cluster_centers\n"
      ],
      "metadata": {
        "id": "oa1JFUkiGyyf"
      },
      "execution_count": null,
      "outputs": []
    },
    {
      "cell_type": "code",
      "source": [
        "# plot histogram for each feature based on cluster\n",
        "for i in sales_df.columns[:8]:\n",
        "  plt.figure(figsize = (30, 6))\n",
        "  for j in range(3):\n",
        "    plt.subplot(1, 3, j+1)\n",
        "    cluster = df_cluster_dr[df_cluster_dr['cluster'] == j]\n",
        "    cluster[i].hist()\n",
        "    plt.title('{}    \\nCluster - {} '.format(i,j))\n",
        "\n",
        "  plt.show()\n"
      ],
      "metadata": {
        "id": "952KyjM0G1JT"
      },
      "execution_count": null,
      "outputs": []
    },
    {
      "cell_type": "code",
      "source": [
        "I FOUND BELOW FINDINGS"
      ],
      "metadata": {
        "id": "onO8YbH5G5SS"
      },
      "execution_count": null,
      "outputs": []
    },
    {
      "cell_type": "code",
      "source": [],
      "metadata": {
        "id": "z-PMyRS3G7ZU"
      },
      "execution_count": null,
      "outputs": []
    },
    {
      "cell_type": "code",
      "source": [
        "# Cluster 0 - This group represents customers who buy items in high quantity(47), they usually buy items with high prices(99). They bring-in more sales than other clusters. They are mostly active through out the year. They usually buy products corresponding to product code 10-90. They buy products with high mrsp(158).\n",
        "# Cluster 1 - This group represents customers who buy items in average quantity(37) and they buy tend to buy high price items(95). They bring-in average sales(4398) and they are active all around the year.They are the highest buyers of products corresponding to product code 0-10 and 90-100.Also they prefer to buy products with high MSRP(115) .\n",
        "# Cluster 2 - This group represents customers who buy items in small quantity(30), they tend to buy low price items(69). They correspond to the lowest total sale(2061) and they are active all around the year.They are the highest buyers of products corresponding to product code 0-20 and 100-110  they then to buy products with low MSRP(77)."
      ],
      "metadata": {
        "id": "u9jrkPFCG3x5"
      },
      "execution_count": null,
      "outputs": []
    },
    {
      "cell_type": "code",
      "source": [
        "# Reduce the original data to 3 dimension using PCA for visualize the clusters\n",
        "pca = PCA(n_components = 3)\n",
        "prin_comp = pca.fit_transform(sales_df_scaled)\n",
        "pca_df = pd.DataFrame(data = prin_comp, columns = ['pca1', 'pca2', 'pca3'])\n",
        "pca_df.head()\n",
        "print(\"after cluster\")\n",
        "pca_df = pd.concat([pca_df, pd.DataFrame({'cluster':labels})], axis = 1)\n",
        "pca_df.head()"
      ],
      "metadata": {
        "id": "YLkzbz_1G8Of"
      },
      "execution_count": null,
      "outputs": []
    },
    {
      "cell_type": "code",
      "source": [
        "# Visualize clusters using 3D-Scatterplot\n",
        "fig = px.scatter_3d(pca_df, x = 'pca1', y = 'pca2', z = 'pca3',\n",
        "              color='cluster', symbol = 'cluster', size_max = 10, opacity = 0.7)\n",
        "fig.update_layout(margin = dict(l = 0, r = 0, b = 0, t = 0))"
      ],
      "metadata": {
        "id": "ta1HzPi9HHU1"
      },
      "execution_count": null,
      "outputs": []
    }
  ]
}